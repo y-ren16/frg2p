{
 "cells": [
  {
   "cell_type": "code",
   "execution_count": 1,
   "metadata": {},
   "outputs": [
    {
     "name": "stdout",
     "output_type": "stream",
     "text": [
      "['l', 'ə', ' ', 't', 'a', 'p', 'i', 'f', 'ʁ', 'ɑ', '̃', '.', 'œ', '\"', ',', 'n', 'ɡ', 'o', 'd', 'v', 'ɔ', 'e', 'm', 's', 'ɲ', 'ɛ', 'u', 'k', 'b', 'y', 'z', 'ʒ', 'j', ';', 'ø', 'w', 'ʃ', 'ː', '!', ':', '?', 'ŋ']\n"
     ]
    }
   ],
   "source": [
    "# filename = \"../All_Data/blizzard_challenge_2023/NEB_train.csv\"  # replace with the name of your text file\n",
    "# filename = \"../All_Data/blizzard_challenge_2023/AD_train.csv\"\n",
    "# filename1 = \"../G2pData/AD/train.txt\"\n",
    "# filename2 = \"../G2pData/AD/test.txt\"\n",
    "# filename3 = \"../G2pData/AD/valid.txt\"\n",
    "filename1 = \"../G2pData/NEB/train.txt\"\n",
    "filename2 = \"../G2pData/NEB/test.txt\"\n",
    "filename3 = \"../G2pData/NEB/valid.txt\"\n",
    "\n",
    "char_counts = {}  # dictionary to store character counts\n",
    "\n",
    "with open(filename1, 'r') as file:\n",
    "    for line in file:\n",
    "        cols = line.strip().split('|')  # split line into columns\n",
    "        if len(cols) >= 3:  # make sure line has at least 2 columns\n",
    "            for char in cols[2]:  # iterate over characters in second column\n",
    "                if char in char_counts:\n",
    "                    char_counts[char] += 1  # increment count for existing character\n",
    "                else:\n",
    "                    char_counts[char] = 1  # add new character to dictionary with count of 1\n",
    "with open(filename2, 'r') as file:\n",
    "    for line in file:\n",
    "        cols = line.strip().split('|')  # split line into columns\n",
    "        if len(cols) >= 3:  # make sure line has at least 2 columns\n",
    "            for char in cols[2]:  # iterate over characters in second column\n",
    "                if char in char_counts:\n",
    "                    char_counts[char] += 1  # increment count for existing character\n",
    "                else:\n",
    "                    char_counts[char] = 1  # add new character to dictionary with count of 1\n",
    "with open(filename3, 'r') as file:\n",
    "    for line in file:\n",
    "        cols = line.strip().split('|')  # split line into columns\n",
    "        if len(cols) >= 3:  # make sure line has at least 2 columns\n",
    "            for char in cols[2]:  # iterate over characters in second column\n",
    "                if char in char_counts:\n",
    "                    char_counts[char] += 1  # increment count for existing character\n",
    "                else:\n",
    "                    char_counts[char] = 1  # add new character to dictionary with count of 1\n",
    "\n",
    "# print character counts\n",
    "all_symble = []\n",
    "for char, count in char_counts.items():\n",
    "    all_symble.append(char)\n",
    "print(all_symble)\n"
   ]
  },
  {
   "cell_type": "code",
   "execution_count": 14,
   "metadata": {},
   "outputs": [
    {
     "name": "stdout",
     "output_type": "stream",
     "text": [
      "{'Z'}\n",
      "{'Ô', 'Â', ']', '[', 'Î'}\n",
      "{'Î', ']', 'Z', 'Ô', 'Â', '['}\n"
     ]
    }
   ],
   "source": [
    "list1 = ['§', 'B', 'e', 'n', 'o', 'î', 't', ' ', 'H', 'a', 'm', ',', 's', 'i', 'u', 'r', 'l', '{', 'b', 'x', '^', 'w', '}', '~', 'j', 'q', 'c', 'k', \"'\", 'v', 'p', '.', 'z', 'C', 'à', 'd', 'y', 'V', '-', 'f', 'P', 'S', '#', 'é', 'g', 'E', 'U', 'h', 'ê', 'L', 'ô', 'O', 'N', 'D', 'ç', ':', '?', 'M', 'J', 'è', '!', 'ù', 'I', 'R', 'T', ';', 'A', '\"', 'F', 'Q', 'â', 'G', 'û', 'É', 'À', 'Y', '«', '»', 'ï', 'ë', 'Ç', 'Ê', 'Z', ')', 'K', 'ü', '(', 'W', '¬']\n",
    "list2 = ['§', 'L', 'e', ' ', 't', 'a', 'p', 'i', 's', '-', 'f', 'r', 'n', 'c', '.', '{', 'l', 'x', '^', '}', '~', 'U', '\"', ',', 'g', 'o', 'd', 'v', 'm', 'u', 'b', 'é', 'q', 'k', 'y', 'z', 'j', \"'\", 'ê', 'h', ';', 'ç', 'C', 'à', 'è', 'w', 'T', 'W', 'S', 'O', 'ô', 'N', 'ù', 'â', 'E', 'P', 'J', 'D', '!', 'M', 'F', ':', 'û', '¬', 'B', '[', ']', 'G', 'A', '?', 'Ç', 'À', '#', 'R', 'V', 'î', 'I', '«', '»', '(', ')', 'ï', 'Q', 'H', 'Y', 'É', 'K', 'Â', 'Ê', 'ë', 'Î', 'ü', 'Ô']\n",
    "\n",
    "# Convert both lists to sets\n",
    "set1 = set(list1)\n",
    "set2 = set(list2)\n",
    "\n",
    "# Find the characters that are in set1 but not in set2\n",
    "diff1 = set1 - set2\n",
    "\n",
    "# Find the characters that are in set2 but not in set1\n",
    "diff2 = set2 - set1\n",
    "\n",
    "# Combine the two sets of different characters\n",
    "diff = diff1.union(diff2)\n",
    "\n",
    "# Print the result\n",
    "print(diff1)\n",
    "print(diff2)\n",
    "print(diff)"
   ]
  }
 ],
 "metadata": {
  "kernelspec": {
   "display_name": "Python 3.8.16 ('g2p')",
   "language": "python",
   "name": "python3"
  },
  "language_info": {
   "codemirror_mode": {
    "name": "ipython",
    "version": 3
   },
   "file_extension": ".py",
   "mimetype": "text/x-python",
   "name": "python",
   "nbconvert_exporter": "python",
   "pygments_lexer": "ipython3",
   "version": "3.8.16"
  },
  "orig_nbformat": 4,
  "vscode": {
   "interpreter": {
    "hash": "f1d95a12e8645f5ac895c10bf803548d9cc013f63cbe649052d0418f6a642b27"
   }
  }
 },
 "nbformat": 4,
 "nbformat_minor": 2
}

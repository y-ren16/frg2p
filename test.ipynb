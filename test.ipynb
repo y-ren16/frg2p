{
 "cells": [
  {
   "cell_type": "code",
   "execution_count": 3,
   "metadata": {},
   "outputs": [
    {
     "name": "stdout",
     "output_type": "stream",
     "text": [
      "['Replikatil']\n"
     ]
    }
   ],
   "source": [
    "from phonemizer.backend import EspeakMbrolaBackend\n",
    "# backend = EspeakBackend(language='fr-fr')\n",
    "backend = EspeakMbrolaBackend(language='mb-fr2')\n",
    "\n",
    "texts = ['répliqua-t-il.']\n",
    "# ['§Je rappelle que Google,',\n",
    "#     'Il jouera un rôle strictement limité au conseil technique.',\n",
    "#          'Et j\\'ai plutôt senti dans vos propos',\n",
    "#          'Personne n\\'ignore l\\'existence de ce grand courant d\\'eau chaude, connu sous le nom de Gulf Stream.']\n",
    "\n",
    "phonemized = backend.phonemize(texts)\n",
    "print(phonemized)"
   ]
  },
  {
   "cell_type": "code",
   "execution_count": 1,
   "metadata": {},
   "outputs": [
    {
     "name": "stdout",
     "output_type": "stream",
     "text": [
      "['b', 'd', 'f', 'g', 'H', 'j', 'k', 'l', 'm', 'n', 'J', 'N', 'p', 'R', 's', 'S', 't', 'v', 'w', 'z', 'Z', '2', '9', '9~', '@', 'a', 'A~', 'e', 'E', 'E~', 'i', 'o', 'O', 'O~', 'u', 'y']\n"
     ]
    }
   ],
   "source": [
    "import os\n",
    "import re\n",
    "ISC_convert_name = 'IPA-SAMPA-CPA.txt'\n",
    "all_SAMPA = []\n",
    "with open(os.path.join('./', ISC_convert_name)) as f:\n",
    "    for line in f:\n",
    "        temp = re.split(r\"\\s+\", line.strip(\"\\n\"))\n",
    "        IPA = temp[0]\n",
    "        SAMPA = temp[1]\n",
    "        CPA = temp[2]\n",
    "        all_SAMPA.append(SAMPA)\n",
    "    print(all_SAMPA)"
   ]
  },
  {
   "cell_type": "code",
   "execution_count": 17,
   "metadata": {},
   "outputs": [],
   "source": [
    "import os\n",
    "preprocessed_path = './'\n",
    "filename = 'AD_train.csv'\n",
    "def process_meta(filename):\n",
    "    with open(\n",
    "        os.path.join(preprocessed_path, filename), \"r\", encoding=\"utf-8\"\n",
    "    ) as f:\n",
    "        name = []\n",
    "        start_ms = []\n",
    "        end_ms = []\n",
    "        raw_text = []\n",
    "        text_0 = [] \n",
    "        text = []\n",
    "        text_2 = [] \n",
    "        durations = []\n",
    "        durations_2 = []\n",
    "        flag = 0\n",
    "        for line in f.readlines():         \n",
    "            if(flag % 2 == 0):\n",
    "                n, s, e, r, t, d = line.strip(\"\\n\").split(\"|\")\n",
    "                name.append(n)\n",
    "                start_ms.append(s)\n",
    "                end_ms.append(e)\n",
    "                raw_text.append(r)\n",
    "                text.append(t)\n",
    "                durations.append(d)\n",
    "                assert len(t.split(\" \"))==len(d[1:].split(\" \"))\n",
    "            else:\n",
    "                n, s, e, t_0, t_2, d_2= line.strip(\"\\n\").split(\"|\") \n",
    "                text_0.append(t_0)\n",
    "                text_2.append(t_2)\n",
    "                durations_2.append(d_2)\n",
    "                assert n==name.pop()\n",
    "                assert s==start_ms.pop()\n",
    "                assert e==end_ms.pop()\n",
    "                assert len(t_2.split(\" \"))==len(d_2[1:].split(\" \"))\n",
    "            flag = flag + 1\n",
    "    return name, start_ms, end_ms, raw_text, text_0, text, text_2, durations, durations_2"
   ]
  },
  {
   "cell_type": "code",
   "execution_count": 18,
   "metadata": {},
   "outputs": [],
   "source": [
    "name, start_ms, end_ms, raw_text, text_0, text, text_2, durations, durations_2 = process_meta(filename)"
   ]
  },
  {
   "cell_type": "code",
   "execution_count": 31,
   "metadata": {},
   "outputs": [
    {
     "name": "stdout",
     "output_type": "stream",
     "text": [
      "ɔ̃ʃɑ̃ʁœœ̃ɛ̃\n",
      "11\n",
      "['ɔ', '̃', 'ʃ', 'ɑ', '̃', 'ʁ', 'œ', 'œ', '̃', 'ɛ', '̃']\n",
      "ɔ ̃ ʃ ɑ ̃ ʁ œ œ ̃ ɛ ̃\n",
      "True\n",
      "False\n"
     ]
    }
   ],
   "source": [
    "a = 'ɔ̃ʃɑ̃ʁœœ̃ɛ̃'\n",
    "b = []\n",
    "print(a)\n",
    "print(len(a))\n",
    "for i in range(len(a)):\n",
    "    b.append(a[i])\n",
    "print(b)\n",
    "e = ' '.join(i for i in a)\n",
    "print(e)\n",
    "c = 'ɔ̃'\n",
    "d = 'ɔ'+'̃'\n",
    "e = 'ɔ'+ '~'\n",
    "print(c==d)\n",
    "print(c==e)"
   ]
  },
  {
   "cell_type": "code",
   "execution_count": 6,
   "metadata": {},
   "outputs": [
    {
     "name": "stdout",
     "output_type": "stream",
     "text": [
      "[\"Un héros s'est échoué.\", 'Deux héros se sont échoués.', 'Deux héroïnes se sont échouées.', 'Sans avoir rien dit à personne, les deux héroïnes se sont échouées.', 'Il est arrivé avec Michel.', 'Ils sont arrivés avec Michel.', \"Elles ont fait qu'ils soient arrivés avec Michel.\", \"C'est une très belle histoire.\", 'Il est un grand homme.', '\"Je ne sais pas,\" répondit-il.', '\"Nous ne savons pas,\" répondirent-ils.', \"c'est-à-dire, l'ambitieux avance d'une personne\", \"Petit à petit, l'oiseaux fait son nid.\", '\"Crétin!\" dénonça-t-elle.', \"Le projet initial du groupe s'est amélioré.\", 'Bonjour à tous', 'Tous les hommes en sont coupables.', 'Tous en sont coupables.', 'Tout homme en est coupable.', 'Toute importante erreur doit être rectifiée.', 'Tout autre étudiant doit se présenter au concours.', 'Toute ambigüité doit être éclaircie.']\n",
      "['œ̃ eʁo sɛt eʃwe ', 'dø eʁo sə sɔ̃t eʃwe ', 'dø eʁɔin sə sɔ̃t eʃwe ', 'sɑ̃z avwaʁ ʁiɛ̃ di a pɛʁsɔn le dø eʁɔin sə sɔ̃t eʃwe ', 'il ɛt aʁive avɛk miʃɛl ', 'il sɔ̃t aʁive avɛk miʃɛl ', 'ɛlz ɔ̃ fɛ kil swat aʁive avɛk miʃɛl ', 'sɛt yn tʁɛ bɛl istwaʁ ', 'il ɛt œ̃ ɡʁɑ̃t ɔm ', 'ʒə nə sɛ pa ʁepɔ̃ditil ', 'nu nə savɔ̃ pa ʁepɔ̃diʁtil ', 'sɛtadiʁ lɑ̃bisjøz avɑ̃s dyn pɛʁsɔn ', 'pətit a pəti lwazo fɛ sɔ̃ ni ', 'kʁetɛ̃ denɔ̃satɛl ', 'lə pʁoʒɛ inisjal dy ɡʁup sɛt ameljoʁe ', 'bɔ̃ʒuʁ a tus ', 'tu lez ɔmz ɑ̃ sɔ̃ kupabl ', 'tus ɑ̃ sɔ̃ kupabl ', 'tut ɔm ɑ̃n ɛ kupabl ', 'tut ɛ̃pɔʁtɑ̃t ɛʁœʁ dwa ɛtʁ ʁɛktifje ', 'tut otʁ etydjɑ̃ dwa sə pʁezɑ̃te o kɔ̃kuʁ ', 'tut ɑ̃biɡyite dwa ɛtʁ eklɛʁsi ']\n"
     ]
    }
   ],
   "source": [
    "import os\n",
    "from phonemizer.backend import EspeakBackend\n",
    "backend = EspeakBackend(language='fr-fr')\n",
    "preprocessed_path = './'\n",
    "filename = 'french-samples.txt'\n",
    "def process_meta(filename):\n",
    "    franch_text = []\n",
    "    with open(\n",
    "        os.path.join(preprocessed_path, filename), \"r\", encoding=\"utf-8\"\n",
    "    ) as f:\n",
    "        for line in f.readlines():  \n",
    "            franch_text.append(line.strip(\"\\n\"))\n",
    "    return franch_text\n",
    "franch_text = process_meta(filename)\n",
    "phonemized = backend.phonemize(franch_text)\n",
    "print(franch_text)\n",
    "print(phonemized)\n",
    "    "
   ]
  },
  {
   "cell_type": "code",
   "execution_count": 24,
   "metadata": {},
   "outputs": [
    {
     "name": "stdout",
     "output_type": "stream",
     "text": [
      "False\n"
     ]
    }
   ],
   "source": [
    "a = 'ɡ'\n",
    "b = 'g'\n",
    "print(a == b)"
   ]
  },
  {
   "cell_type": "code",
   "execution_count": 26,
   "metadata": {},
   "outputs": [
    {
     "name": "stdout",
     "output_type": "stream",
     "text": [
      "['il ʒwʁa œ̃ ʁoːl stʁiktəmɑ̃ limite o kɔ̃sɛj tɛknik ']\n"
     ]
    }
   ],
   "source": [
    "xx = ['§Il jouera un rôle strictement limité au conseil technique.§']\n",
    "pp = backend.phonemize(xx)\n",
    "print(pp)"
   ]
  },
  {
   "cell_type": "code",
   "execution_count": 27,
   "metadata": {},
   "outputs": [
    {
     "name": "stdout",
     "output_type": "stream",
     "text": [
      "['la paʁɔl ɛt a məsjø ʒɑ̃klod (en)maθaɪz(fr) ']\n"
     ]
    }
   ],
   "source": [
    "xxx = ['§La parole est à monsieur jean-claude mathis.§']\n",
    "ppp = backend.phonemize(xxx)\n",
    "print(ppp)"
   ]
  },
  {
   "cell_type": "code",
   "execution_count": null,
   "metadata": {},
   "outputs": [],
   "source": [
    "xxx = ['§La parole est à monsieur jean-claude mathis.§']\n",
    "ppp = backend.phonemize(xxx)\n",
    "print(ppp)"
   ]
  },
  {
   "cell_type": "code",
   "execution_count": null,
   "metadata": {},
   "outputs": [],
   "source": [
    "'§La parole est à monsieur jean-claude mathis.§'\n",
    "'La parole est à monsieur jean-claude mathis.'"
   ]
  },
  {
   "cell_type": "code",
   "execution_count": 42,
   "metadata": {},
   "outputs": [
    {
     "data": {
      "text/plain": [
       "True"
      ]
     },
     "execution_count": 42,
     "metadata": {},
     "output_type": "execute_result"
    }
   ],
   "source": [
    "import re\n",
    "enfr = re.compile(r'\\(en\\)(.*?)\\(fr\\)')\n",
    "textttt = 'dsdsa(en)hdsuhds(fr)dsad'\n",
    "re.search(enfr, textttt, flags=0) != None"
   ]
  },
  {
   "cell_type": "code",
   "execution_count": 43,
   "metadata": {},
   "outputs": [
    {
     "data": {
      "text/plain": [
       "'dsdsa*dsad'"
      ]
     },
     "execution_count": 43,
     "metadata": {},
     "output_type": "execute_result"
    }
   ],
   "source": [
    "re.sub(enfr, '*', textttt, count=0, flags=0)"
   ]
  },
  {
   "cell_type": "code",
   "execution_count": null,
   "metadata": {},
   "outputs": [],
   "source": []
  }
 ],
 "metadata": {
  "kernelspec": {
   "display_name": "Python 3.8.16 ('g2p': conda)",
   "language": "python",
   "name": "python3"
  },
  "language_info": {
   "codemirror_mode": {
    "name": "ipython",
    "version": 3
   },
   "file_extension": ".py",
   "mimetype": "text/x-python",
   "name": "python",
   "nbconvert_exporter": "python",
   "pygments_lexer": "ipython3",
   "version": "3.8.16"
  },
  "orig_nbformat": 4,
  "vscode": {
   "interpreter": {
    "hash": "f1d95a12e8645f5ac895c10bf803548d9cc013f63cbe649052d0418f6a642b27"
   }
  }
 },
 "nbformat": 4,
 "nbformat_minor": 2
}
